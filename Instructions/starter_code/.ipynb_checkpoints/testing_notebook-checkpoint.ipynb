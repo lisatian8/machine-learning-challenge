{
 "cells": [
  {
   "cell_type": "code",
   "execution_count": 5,
   "metadata": {},
   "outputs": [],
   "source": [
    "# Update sklearn to prevent version mismatches\n",
    "#!conda install scikit-learn\n",
    "#!conda update scikit-learn\n",
    "#!conda install joblib \n",
    "#!conda update joblib "
   ]
  },
  {
   "cell_type": "code",
   "execution_count": 6,
   "metadata": {},
   "outputs": [],
   "source": [
    "import pandas as pd"
   ]
  },
  {
   "cell_type": "code",
   "execution_count": 8,
   "metadata": {},
   "outputs": [
    {
     "data": {
      "text/html": [
       "<div>\n",
       "<style scoped>\n",
       "    .dataframe tbody tr th:only-of-type {\n",
       "        vertical-align: middle;\n",
       "    }\n",
       "\n",
       "    .dataframe tbody tr th {\n",
       "        vertical-align: top;\n",
       "    }\n",
       "\n",
       "    .dataframe thead th {\n",
       "        text-align: right;\n",
       "    }\n",
       "</style>\n",
       "<table border=\"1\" class=\"dataframe\">\n",
       "  <thead>\n",
       "    <tr style=\"text-align: right;\">\n",
       "      <th></th>\n",
       "      <th>koi_disposition</th>\n",
       "      <th>koi_fpflag_nt</th>\n",
       "      <th>koi_fpflag_ss</th>\n",
       "      <th>koi_fpflag_co</th>\n",
       "      <th>koi_fpflag_ec</th>\n",
       "      <th>koi_period</th>\n",
       "      <th>koi_period_err1</th>\n",
       "      <th>koi_period_err2</th>\n",
       "      <th>koi_time0bk</th>\n",
       "      <th>koi_time0bk_err1</th>\n",
       "      <th>...</th>\n",
       "      <th>koi_steff_err2</th>\n",
       "      <th>koi_slogg</th>\n",
       "      <th>koi_slogg_err1</th>\n",
       "      <th>koi_slogg_err2</th>\n",
       "      <th>koi_srad</th>\n",
       "      <th>koi_srad_err1</th>\n",
       "      <th>koi_srad_err2</th>\n",
       "      <th>ra</th>\n",
       "      <th>dec</th>\n",
       "      <th>koi_kepmag</th>\n",
       "    </tr>\n",
       "  </thead>\n",
       "  <tbody>\n",
       "    <tr>\n",
       "      <th>0</th>\n",
       "      <td>CANDIDATE</td>\n",
       "      <td>0</td>\n",
       "      <td>0</td>\n",
       "      <td>0</td>\n",
       "      <td>0</td>\n",
       "      <td>10.191547</td>\n",
       "      <td>0.000078</td>\n",
       "      <td>-0.000078</td>\n",
       "      <td>136.69755</td>\n",
       "      <td>0.00647</td>\n",
       "      <td>...</td>\n",
       "      <td>-74</td>\n",
       "      <td>4.049</td>\n",
       "      <td>0.013</td>\n",
       "      <td>-0.015</td>\n",
       "      <td>1.684</td>\n",
       "      <td>0.107</td>\n",
       "      <td>-0.063</td>\n",
       "      <td>281.46173</td>\n",
       "      <td>46.789894</td>\n",
       "      <td>11.740</td>\n",
       "    </tr>\n",
       "    <tr>\n",
       "      <th>1</th>\n",
       "      <td>CONFIRMED</td>\n",
       "      <td>0</td>\n",
       "      <td>0</td>\n",
       "      <td>0</td>\n",
       "      <td>0</td>\n",
       "      <td>8.308653</td>\n",
       "      <td>0.000010</td>\n",
       "      <td>-0.000010</td>\n",
       "      <td>138.10788</td>\n",
       "      <td>0.00102</td>\n",
       "      <td>...</td>\n",
       "      <td>-80</td>\n",
       "      <td>4.485</td>\n",
       "      <td>0.077</td>\n",
       "      <td>-0.033</td>\n",
       "      <td>0.849</td>\n",
       "      <td>0.040</td>\n",
       "      <td>-0.066</td>\n",
       "      <td>291.64090</td>\n",
       "      <td>41.241039</td>\n",
       "      <td>14.817</td>\n",
       "    </tr>\n",
       "    <tr>\n",
       "      <th>2</th>\n",
       "      <td>FALSE POSITIVE</td>\n",
       "      <td>0</td>\n",
       "      <td>0</td>\n",
       "      <td>1</td>\n",
       "      <td>1</td>\n",
       "      <td>9.942219</td>\n",
       "      <td>0.000059</td>\n",
       "      <td>-0.000059</td>\n",
       "      <td>133.84961</td>\n",
       "      <td>0.00532</td>\n",
       "      <td>...</td>\n",
       "      <td>-155</td>\n",
       "      <td>4.434</td>\n",
       "      <td>0.126</td>\n",
       "      <td>-0.273</td>\n",
       "      <td>0.917</td>\n",
       "      <td>0.269</td>\n",
       "      <td>-0.124</td>\n",
       "      <td>298.64505</td>\n",
       "      <td>42.089851</td>\n",
       "      <td>14.129</td>\n",
       "    </tr>\n",
       "    <tr>\n",
       "      <th>3</th>\n",
       "      <td>FALSE POSITIVE</td>\n",
       "      <td>1</td>\n",
       "      <td>0</td>\n",
       "      <td>0</td>\n",
       "      <td>0</td>\n",
       "      <td>0.948952</td>\n",
       "      <td>0.000010</td>\n",
       "      <td>-0.000010</td>\n",
       "      <td>131.85772</td>\n",
       "      <td>0.00821</td>\n",
       "      <td>...</td>\n",
       "      <td>-232</td>\n",
       "      <td>3.666</td>\n",
       "      <td>0.304</td>\n",
       "      <td>-0.076</td>\n",
       "      <td>3.067</td>\n",
       "      <td>0.461</td>\n",
       "      <td>-1.077</td>\n",
       "      <td>299.12161</td>\n",
       "      <td>41.424450</td>\n",
       "      <td>12.669</td>\n",
       "    </tr>\n",
       "    <tr>\n",
       "      <th>4</th>\n",
       "      <td>CONFIRMED</td>\n",
       "      <td>0</td>\n",
       "      <td>0</td>\n",
       "      <td>0</td>\n",
       "      <td>0</td>\n",
       "      <td>14.613478</td>\n",
       "      <td>0.000156</td>\n",
       "      <td>-0.000156</td>\n",
       "      <td>140.41368</td>\n",
       "      <td>0.00701</td>\n",
       "      <td>...</td>\n",
       "      <td>-136</td>\n",
       "      <td>4.242</td>\n",
       "      <td>0.125</td>\n",
       "      <td>-0.125</td>\n",
       "      <td>1.314</td>\n",
       "      <td>0.244</td>\n",
       "      <td>-0.200</td>\n",
       "      <td>290.99527</td>\n",
       "      <td>45.192211</td>\n",
       "      <td>13.223</td>\n",
       "    </tr>\n",
       "  </tbody>\n",
       "</table>\n",
       "<p>5 rows × 41 columns</p>\n",
       "</div>"
      ],
      "text/plain": [
       "  koi_disposition  koi_fpflag_nt  koi_fpflag_ss  koi_fpflag_co  koi_fpflag_ec  \\\n",
       "0       CANDIDATE              0              0              0              0   \n",
       "1       CONFIRMED              0              0              0              0   \n",
       "2  FALSE POSITIVE              0              0              1              1   \n",
       "3  FALSE POSITIVE              1              0              0              0   \n",
       "4       CONFIRMED              0              0              0              0   \n",
       "\n",
       "   koi_period  koi_period_err1  koi_period_err2  koi_time0bk  \\\n",
       "0   10.191547         0.000078        -0.000078    136.69755   \n",
       "1    8.308653         0.000010        -0.000010    138.10788   \n",
       "2    9.942219         0.000059        -0.000059    133.84961   \n",
       "3    0.948952         0.000010        -0.000010    131.85772   \n",
       "4   14.613478         0.000156        -0.000156    140.41368   \n",
       "\n",
       "   koi_time0bk_err1  ...  koi_steff_err2  koi_slogg  koi_slogg_err1  \\\n",
       "0           0.00647  ...             -74      4.049           0.013   \n",
       "1           0.00102  ...             -80      4.485           0.077   \n",
       "2           0.00532  ...            -155      4.434           0.126   \n",
       "3           0.00821  ...            -232      3.666           0.304   \n",
       "4           0.00701  ...            -136      4.242           0.125   \n",
       "\n",
       "   koi_slogg_err2  koi_srad  koi_srad_err1  koi_srad_err2         ra  \\\n",
       "0          -0.015     1.684          0.107         -0.063  281.46173   \n",
       "1          -0.033     0.849          0.040         -0.066  291.64090   \n",
       "2          -0.273     0.917          0.269         -0.124  298.64505   \n",
       "3          -0.076     3.067          0.461         -1.077  299.12161   \n",
       "4          -0.125     1.314          0.244         -0.200  290.99527   \n",
       "\n",
       "         dec  koi_kepmag  \n",
       "0  46.789894      11.740  \n",
       "1  41.241039      14.817  \n",
       "2  42.089851      14.129  \n",
       "3  41.424450      12.669  \n",
       "4  45.192211      13.223  \n",
       "\n",
       "[5 rows x 41 columns]"
      ]
     },
     "execution_count": 8,
     "metadata": {},
     "output_type": "execute_result"
    }
   ],
   "source": [
    "# Import the testing csvs \n",
    "testing_data = pd.read_csv('test_data.csv')\n",
    "#testing_data = pd.read_csv('cumulative.csv')\n",
    "#testing_data = testing_data.drop(columns=[\"rowid\", \"kepid\", \"kepoi_name\", \"kepler_name\", \"koi_pdisposition\", \"koi_score\", \"koi_tce_delivname\"])\n",
    "# Drop the null columns where all values are null\n",
    "testing_data = testing_data.dropna(axis='columns', how='all')\n",
    "# Drop the null rows\n",
    "testing_data = testing_data.dropna()\n",
    "testing_data.head()"
   ]
  },
  {
   "cell_type": "code",
   "execution_count": 9,
   "metadata": {},
   "outputs": [],
   "source": [
    "# Split the test data into X and y\n",
    "y_test = testing_data[\"koi_disposition\"]\n",
    "X_test = testing_data.drop(columns=[\"koi_disposition\"])"
   ]
  },
  {
   "cell_type": "code",
   "execution_count": 10,
   "metadata": {},
   "outputs": [
    {
     "name": "stderr",
     "output_type": "stream",
     "text": [
      "C:\\Users\\tian\\AppData\\Local\\Continuum\\anaconda3\\envs\\PythonData\\lib\\site-packages\\sklearn\\preprocessing\\data.py:334: DataConversionWarning: Data with input dtype int64, float64 were all converted to float64 by MinMaxScaler.\n",
      "  return self.partial_fit(X, y)\n"
     ]
    }
   ],
   "source": [
    "# scale the data if the student did\n",
    "from sklearn.preprocessing import MinMaxScaler\n",
    "scaler = MinMaxScaler()\n",
    "X_test= scaler.fit_transform(X_test)"
   ]
  },
  {
   "cell_type": "code",
   "execution_count": 11,
   "metadata": {},
   "outputs": [
    {
     "name": "stdout",
     "output_type": "stream",
     "text": [
      "[[0.         0.         0.         ... 0.07357815 0.64692556 0.39114053]\n",
      " [0.         0.         0.         ... 0.53905974 0.28615251 0.70448065]\n",
      " [0.         0.         1.         ... 0.85935136 0.3413402  0.63441955]\n",
      " ...\n",
      " [0.         1.         0.         ... 0.74057483 0.45006823 0.71629328]\n",
      " [1.         0.         1.         ... 0.20474171 0.25334218 0.74725051]\n",
      " [0.         1.         1.         ... 0.68080267 0.1414541  0.78350305]]\n"
     ]
    }
   ],
   "source": [
    "# set your x_test to match the same variables that the student chose. \n",
    "# Can copy/paste their feature selection code. Just be sure to set it to X_test\n",
    "#X_test = X_test[[]]\n",
    "#X_test = X_test.reshape(-1, 1)\n",
    "print(X_test)\n"
   ]
  },
  {
   "cell_type": "markdown",
   "metadata": {},
   "source": [
    "# Testing"
   ]
  },
  {
   "cell_type": "code",
   "execution_count": 12,
   "metadata": {},
   "outputs": [
    {
     "name": "stdout",
     "output_type": "stream",
     "text": [
      "0.43240159726183686\n"
     ]
    }
   ],
   "source": [
    "# load and score the student's model\n",
    "import joblib\n",
    "# update file name with student file\n",
    "#filename = 'student_model.sav'\n",
    "filename = 'logistic.sav'\n",
    "loaded_model = joblib.load(filename)\n",
    "\n",
    "result = loaded_model.score(X_test, y_test)\n",
    "print(result)"
   ]
  },
  {
   "cell_type": "markdown",
   "metadata": {},
   "source": [
    "# Deep Learning Testing"
   ]
  },
  {
   "cell_type": "code",
   "execution_count": 13,
   "metadata": {},
   "outputs": [
    {
     "name": "stderr",
     "output_type": "stream",
     "text": [
      "Using TensorFlow backend.\n"
     ]
    },
    {
     "name": "stdout",
     "output_type": "stream",
     "text": [
      "WARNING:tensorflow:From C:\\Users\\tian\\AppData\\Local\\Continuum\\anaconda3\\envs\\PythonData\\lib\\site-packages\\keras\\backend\\tensorflow_backend.py:541: The name tf.placeholder is deprecated. Please use tf.compat.v1.placeholder instead.\n",
      "\n",
      "WARNING:tensorflow:From C:\\Users\\tian\\AppData\\Local\\Continuum\\anaconda3\\envs\\PythonData\\lib\\site-packages\\keras\\backend\\tensorflow_backend.py:4432: The name tf.random_uniform is deprecated. Please use tf.random.uniform instead.\n",
      "\n",
      "WARNING:tensorflow:From C:\\Users\\tian\\AppData\\Local\\Continuum\\anaconda3\\envs\\PythonData\\lib\\site-packages\\keras\\backend\\tensorflow_backend.py:190: The name tf.get_default_session is deprecated. Please use tf.compat.v1.get_default_session instead.\n",
      "\n",
      "WARNING:tensorflow:From C:\\Users\\tian\\AppData\\Local\\Continuum\\anaconda3\\envs\\PythonData\\lib\\site-packages\\keras\\backend\\tensorflow_backend.py:197: The name tf.ConfigProto is deprecated. Please use tf.compat.v1.ConfigProto instead.\n",
      "\n",
      "WARNING:tensorflow:From C:\\Users\\tian\\AppData\\Local\\Continuum\\anaconda3\\envs\\PythonData\\lib\\site-packages\\keras\\backend\\tensorflow_backend.py:203: The name tf.Session is deprecated. Please use tf.compat.v1.Session instead.\n",
      "\n",
      "WARNING:tensorflow:From C:\\Users\\tian\\AppData\\Local\\Continuum\\anaconda3\\envs\\PythonData\\lib\\site-packages\\keras\\optimizers.py:793: The name tf.train.Optimizer is deprecated. Please use tf.compat.v1.train.Optimizer instead.\n",
      "\n",
      "WARNING:tensorflow:From C:\\Users\\tian\\AppData\\Local\\Continuum\\anaconda3\\envs\\PythonData\\lib\\site-packages\\tensorflow\\python\\ops\\math_grad.py:1250: add_dispatch_support.<locals>.wrapper (from tensorflow.python.ops.array_ops) is deprecated and will be removed in a future version.\n",
      "Instructions for updating:\n",
      "Use tf.where in 2.0, which has the same broadcast rule as np.where\n",
      "Predicted classes: ['CONFIRMED' 'CONFIRMED' 'FALSE POSITIVE' 'FALSE POSITIVE' 'CANDIDATE'\n",
      " 'CANDIDATE' 'CANDIDATE' 'FALSE POSITIVE' 'FALSE POSITIVE'\n",
      " 'FALSE POSITIVE']\n",
      "Actual Labels: ['CANDIDATE', 'CONFIRMED', 'FALSE POSITIVE', 'FALSE POSITIVE', 'CONFIRMED', 'CONFIRMED', 'CONFIRMED', 'FALSE POSITIVE', 'FALSE POSITIVE', 'FALSE POSITIVE']\n"
     ]
    }
   ],
   "source": [
    "# load and score the student's model\n",
    "import joblib\n",
    "from sklearn.preprocessing import LabelEncoder\n",
    "from keras.utils import to_categorical\n",
    "\n",
    "# update file name with student file\n",
    "filename = 'deep_learning.sav'\n",
    "loaded_model = joblib.load(filename)\n",
    "\n",
    "label_encoder = LabelEncoder()\n",
    "label_encoder.fit(y_test)\n",
    "encoded_y_test = label_encoder.transform(y_test)\n",
    "\n",
    "y_test_categorical = to_categorical(encoded_y_test)\n",
    "\n",
    "encoded_predictions = loaded_model.predict_classes(X_test[:10])\n",
    "prediction_labels = label_encoder.inverse_transform(encoded_predictions)\n",
    "\n",
    "# Take number correct over total to get \"score\" for grading\n",
    "print(f\"Predicted classes: {prediction_labels}\")\n",
    "print(f\"Actual Labels: {list(y_test[:10])}\")"
   ]
  },
  {
   "cell_type": "code",
   "execution_count": null,
   "metadata": {},
   "outputs": [],
   "source": []
  }
 ],
 "metadata": {
  "kernelspec": {
   "display_name": "Python 3",
   "language": "python",
   "name": "python3"
  },
  "language_info": {
   "codemirror_mode": {
    "name": "ipython",
    "version": 3
   },
   "file_extension": ".py",
   "mimetype": "text/x-python",
   "name": "python",
   "nbconvert_exporter": "python",
   "pygments_lexer": "ipython3",
   "version": "3.6.8"
  }
 },
 "nbformat": 4,
 "nbformat_minor": 2
}
